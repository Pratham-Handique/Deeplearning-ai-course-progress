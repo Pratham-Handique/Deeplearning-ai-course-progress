{
 "cells": [
  {
   "cell_type": "code",
   "execution_count": 1,
   "id": "62758f19",
   "metadata": {},
   "outputs": [],
   "source": [
    "import numpy as np"
   ]
  },
  {
   "cell_type": "code",
   "execution_count": 3,
   "id": "62a7cc0a",
   "metadata": {},
   "outputs": [
    {
     "name": "stdout",
     "output_type": "stream",
     "text": [
      "[[ 59.4   0.    4.4  68.4]\n",
      " [  1.2 104.3  52.    8. ]\n",
      " [  1.3 102.2  34.3   2. ]]\n"
     ]
    }
   ],
   "source": [
    "A=np.array([[59.4,0.0,4.4,68.4],\n",
    "           [1.2,104.3,52.0,8.0],\n",
    "           [1.3,102.2,34.3,2.0]])\n",
    "print(A)"
   ]
  },
  {
   "cell_type": "code",
   "execution_count": 4,
   "id": "67e926a5",
   "metadata": {},
   "outputs": [
    {
     "name": "stdout",
     "output_type": "stream",
     "text": [
      "[ 61.9 206.5  90.7  78.4]\n"
     ]
    }
   ],
   "source": [
    "cal=A.sum(axis=0)\n",
    "print(cal)"
   ]
  },
  {
   "cell_type": "code",
   "execution_count": 5,
   "id": "2e1010d8",
   "metadata": {},
   "outputs": [
    {
     "name": "stdout",
     "output_type": "stream",
     "text": [
      "[[95.96122779  0.          4.85115766 87.24489796]\n",
      " [ 1.93861066 50.50847458 57.33186329 10.20408163]\n",
      " [ 2.10016155 49.49152542 37.81697905  2.55102041]]\n"
     ]
    }
   ],
   "source": [
    "percentage=100*A/cal.reshape(1,4)\n",
    "print(percentage)"
   ]
  },
  {
   "cell_type": "code",
   "execution_count": null,
   "id": "6320608b",
   "metadata": {},
   "outputs": [],
   "source": []
  }
 ],
 "metadata": {
  "kernelspec": {
   "display_name": "Python 3 (ipykernel)",
   "language": "python",
   "name": "python3"
  },
  "language_info": {
   "codemirror_mode": {
    "name": "ipython",
    "version": 3
   },
   "file_extension": ".py",
   "mimetype": "text/x-python",
   "name": "python",
   "nbconvert_exporter": "python",
   "pygments_lexer": "ipython3",
   "version": "3.10.9"
  }
 },
 "nbformat": 4,
 "nbformat_minor": 5
}
